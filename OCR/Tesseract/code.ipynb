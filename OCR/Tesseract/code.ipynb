{
 "cells": [
  {
   "cell_type": "code",
   "execution_count": 9,
   "metadata": {},
   "outputs": [
    {
     "name": "stdout",
     "output_type": "stream",
     "text": [
      "Recido de Pagamento de Salário\n",
      "\n",
      "Q\n",
      "foi\n",
      "NOME DA EMPRESA Salário do Mês E\n",
      "RUA MARIA COELHO AGUIAR, 215 - BL E 08/2015 E\n",
      "o\n",
      "| 00.000.000/0001-71 . no o == = E E\n",
      "- - = - mm - - meme mem mem - - 4 E]\n",
      "Código Nome do Funcionário cso Local Depto. Setor FL. q g\n",
      "“03430 SEU NOME 1234-5 \" co000 \" 0001 \" 00007 ” ooos3 É É\n",
      "FUNC. Aux. Administrativo z z\n",
      "E á - - E É\n",
      "e! , 7 , Q E\n",
      "cod. Descrição — Referência vencimentos Descontos õ E:\n",
      "r ] á é\n",
      "0101 Salario do Mês 29,00 1430,00 000 || 3\n",
      "forog D.S.R Salario 000 | 88,25 5\n",
      "'os01 Arred. Mês Atual 0,00 0,15 000), E\n",
      "1200 Adiant Salarial 0,00 0,00 000), &\n",
      "foggg Desconto INSS 24,00 0,00 11440 || E\n",
      "| 2\n",
      "| i 3\n",
      "Í <\n",
      "Totalde vencimentos Total de Descontos a\n",
      "Banco: Agencia: cfc: E)\n",
      "| 1.518,40 114,40 E\n",
      "&\n",
      "h k [o\n",
      "Referente ao mês Agosto/2015 Valor Liquido 1.404,00 2\n",
      "Salário Base Sat. Contr. INSS Base Cále. FGTS FGTS do Mês Base Cálc. IRRF Faixa IRRF ê\n",
      "&\n",
      "1.430,00 151840 1.518,40 151,84 . 1.366,56 8\n",
      "\n",
      "Via - Empregado\n",
      "\n"
     ]
    }
   ],
   "source": [
    "import cv2\n",
    "import pytesseract\n",
    "from PIL import Image\n",
    "\n",
    "img = cv2.imread(\"image.png\")\n",
    "\n",
    "gray = cv2.cvtColor(img, cv2.COLOR_BGR2GRAY)\n",
    "\n",
    "thresh = cv2.threshold(gray, 150, 255, cv2.THRESH_BINARY)[1]\n",
    "\n",
    "cv2.imwrite(\"processed_image.png\", thresh)\n",
    "\n",
    "text = pytesseract.image_to_string(thresh, lang=\"por\")\n",
    "\n",
    "print(text)\n"
   ]
  },
  {
   "cell_type": "code",
   "execution_count": 10,
   "metadata": {},
   "outputs": [
    {
     "name": "stdout",
     "output_type": "stream",
     "text": [
      "### Recibo de Pagamento de Salário ###\n",
      "Salário do Mês: 29,00\n",
      "Desconto INSS: 24,00\n",
      "Total de Vencimentos: Não encontrado\n",
      "Valor Líquido: Não encontrado\n"
     ]
    }
   ],
   "source": [
    "import re\n",
    "\n",
    "text = \"\"\"\n",
    "Recibo de Pagamento de Salário\n",
    "Salário do Mês: 08/2015\n",
    "\n",
    "NOME DA EMPRESA\n",
    "RUA MARIA COELHO AGUIAR, 215 - BL E\n",
    "00.000.000/0001-71\n",
    "\n",
    "Código Nome do Funcionário\n",
    "03430 SEU NOME\n",
    "FUNC. Aux. Administrativo\n",
    "\n",
    "CBO 1234-5 Local 00000 Depto. 00001 Setor 00007 Fl. 00083\n",
    "\n",
    "Cód.   Descrição             Referência   Vencimentos   Descontos\n",
    "0101   Salario do Mês        29,00        1.430,00      0,00\n",
    "0109   D.S.R Salario         0,00         88,25         0,00\n",
    "0501   Arred. Mês Atual      0,00         0,15          0,00\n",
    "1200   Adiant Salarial       0,00         0,00          0,00\n",
    "0999   Desconto INSS         24,00        0,00          114,40\n",
    "\n",
    "Total de Vencimentos: 1.518,40\n",
    "Total de Descontos: 114,40\n",
    "Valor Líquido: 1.404,00\n",
    "\"\"\"\n",
    "\n",
    "salario_match = re.search(r\"Salario do Mês\\s+(\\d+,\\d+)\", text)\n",
    "desconto_inss_match = re.search(r\"Desconto INSS\\s+(\\d+,\\d+)\", text)\n",
    "total_vencimentos_match = re.search(r\"Total de Vencimentos:\\s+(\\d+,\\d+)\", text)\n",
    "valor_liquido_match = re.search(r\"Valor Líquido:\\s+(\\d+,\\d+)\", text)\n",
    "\n",
    "print(\"### Recibo de Pagamento de Salário ###\")\n",
    "print(\"Salário do Mês:\", salario_match.group(1) if salario_match else \"Não encontrado\")\n",
    "print(\"Desconto INSS:\", desconto_inss_match.group(1) if desconto_inss_match else \"Não encontrado\")\n",
    "print(\"Total de Vencimentos:\", total_vencimentos_match.group(1) if total_vencimentos_match else \"Não encontrado\")\n",
    "print(\"Valor Líquido:\", valor_liquido_match.group(1) if valor_liquido_match else \"Não encontrado\")\n"
   ]
  },
  {
   "cell_type": "code",
   "execution_count": 11,
   "metadata": {},
   "outputs": [
    {
     "data": {
      "text/plain": [
       "{'salario_mes': '29,00',\n",
       " 'desconto_inss': '24,00',\n",
       " 'total_vencimentos': None,\n",
       " 'valor_liquido': None}"
      ]
     },
     "execution_count": 11,
     "metadata": {},
     "output_type": "execute_result"
    }
   ],
   "source": [
    "dados_holerite = {\n",
    "    \"salario_mes\": salario_match.group(1) if salario_match else None,\n",
    "    \"desconto_inss\": desconto_inss_match.group(1) if desconto_inss_match else None,\n",
    "    \"total_vencimentos\": total_vencimentos_match.group(1) if total_vencimentos_match else None,\n",
    "    \"valor_liquido\": valor_liquido_match.group(1) if valor_liquido_match else None\n",
    "}\n",
    "\n",
    "dados_holerite\n"
   ]
  }
 ],
 "metadata": {
  "kernelspec": {
   "display_name": "Python 3",
   "language": "python",
   "name": "python3"
  },
  "language_info": {
   "codemirror_mode": {
    "name": "ipython",
    "version": 3
   },
   "file_extension": ".py",
   "mimetype": "text/x-python",
   "name": "python",
   "nbconvert_exporter": "python",
   "pygments_lexer": "ipython3",
   "version": "3.12.3"
  }
 },
 "nbformat": 4,
 "nbformat_minor": 2
}
